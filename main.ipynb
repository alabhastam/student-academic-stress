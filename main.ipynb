{
 "cells": [
  {
   "cell_type": "markdown",
   "id": "1c5e12fb",
   "metadata": {
    "papermill": {
     "duration": 0.003276,
     "end_time": "2025-08-12T10:49:58.502068",
     "exception": false,
     "start_time": "2025-08-12T10:49:58.498792",
     "status": "completed"
    },
    "tags": []
   },
   "source": [
    "# data loading and understanding"
   ]
  },
  {
   "cell_type": "code",
   "execution_count": 1,
   "id": "4eab6278",
   "metadata": {
    "execution": {
     "iopub.execute_input": "2025-08-12T10:49:58.510077Z",
     "iopub.status.busy": "2025-08-12T10:49:58.509661Z",
     "iopub.status.idle": "2025-08-12T10:50:00.623487Z",
     "shell.execute_reply": "2025-08-12T10:50:00.622308Z"
    },
    "papermill": {
     "duration": 2.119708,
     "end_time": "2025-08-12T10:50:00.625227",
     "exception": false,
     "start_time": "2025-08-12T10:49:58.505519",
     "status": "completed"
    },
    "tags": []
   },
   "outputs": [],
   "source": [
    "import numpy as np # linear algebra\n",
    "import pandas as pd # data processing, CSV file I/O (e.g. pd.read_csv)\n",
    "\n",
    "df = pd.read_csv('/kaggle/input/student-academic-stress-real-world-dataset/academicStress.csv')"
   ]
  },
  {
   "cell_type": "code",
   "execution_count": 2,
   "id": "510f175f",
   "metadata": {
    "execution": {
     "iopub.execute_input": "2025-08-12T10:50:00.631536Z",
     "iopub.status.busy": "2025-08-12T10:50:00.631224Z",
     "iopub.status.idle": "2025-08-12T10:50:00.637029Z",
     "shell.execute_reply": "2025-08-12T10:50:00.635792Z"
    },
    "papermill": {
     "duration": 0.011149,
     "end_time": "2025-08-12T10:50:00.639028",
     "exception": false,
     "start_time": "2025-08-12T10:50:00.627879",
     "status": "completed"
    },
    "tags": []
   },
   "outputs": [
    {
     "name": "stdout",
     "output_type": "stream",
     "text": [
      "Dataset Shape: (121, 9)\n"
     ]
    }
   ],
   "source": [
    "print(\"Dataset Shape:\", df.shape)\n"
   ]
  },
  {
   "cell_type": "code",
   "execution_count": 3,
   "id": "9b53efa1",
   "metadata": {
    "execution": {
     "iopub.execute_input": "2025-08-12T10:50:00.645365Z",
     "iopub.status.busy": "2025-08-12T10:50:00.645046Z",
     "iopub.status.idle": "2025-08-12T10:50:00.651516Z",
     "shell.execute_reply": "2025-08-12T10:50:00.650116Z"
    },
    "papermill": {
     "duration": 0.012351,
     "end_time": "2025-08-12T10:50:00.653876",
     "exception": false,
     "start_time": "2025-08-12T10:50:00.641525",
     "status": "completed"
    },
    "tags": []
   },
   "outputs": [
    {
     "name": "stdout",
     "output_type": "stream",
     "text": [
      "['Timestamp', 'Your Academic Stage', 'Peer pressure', 'Academic pressure from your home', 'Study Environment', 'What coping strategy you use as a student?', 'Do you have any bad habits like smoking, drinking on a daily basis?', 'What would you rate the academic  competition in your student life', 'Rate your academic stress index ']\n"
     ]
    }
   ],
   "source": [
    "print(df.columns.tolist())\n"
   ]
  },
  {
   "cell_type": "code",
   "execution_count": 4,
   "id": "66523415",
   "metadata": {
    "execution": {
     "iopub.execute_input": "2025-08-12T10:50:00.661164Z",
     "iopub.status.busy": "2025-08-12T10:50:00.660796Z",
     "iopub.status.idle": "2025-08-12T10:50:00.697693Z",
     "shell.execute_reply": "2025-08-12T10:50:00.696267Z"
    },
    "papermill": {
     "duration": 0.042524,
     "end_time": "2025-08-12T10:50:00.699293",
     "exception": false,
     "start_time": "2025-08-12T10:50:00.656769",
     "status": "completed"
    },
    "tags": []
   },
   "outputs": [
    {
     "name": "stdout",
     "output_type": "stream",
     "text": [
      "<class 'pandas.core.frame.DataFrame'>\n",
      "RangeIndex: 121 entries, 0 to 120\n",
      "Data columns (total 9 columns):\n",
      " #   Column                                                               Non-Null Count  Dtype \n",
      "---  ------                                                               --------------  ----- \n",
      " 0   Timestamp                                                            121 non-null    object\n",
      " 1   Your Academic Stage                                                  121 non-null    object\n",
      " 2   Peer pressure                                                        121 non-null    int64 \n",
      " 3   Academic pressure from your home                                     121 non-null    int64 \n",
      " 4   Study Environment                                                    121 non-null    object\n",
      " 5   What coping strategy you use as a student?                           121 non-null    object\n",
      " 6   Do you have any bad habits like smoking, drinking on a daily basis?  121 non-null    object\n",
      " 7   What would you rate the academic  competition in your student life   121 non-null    int64 \n",
      " 8   Rate your academic stress index                                      121 non-null    int64 \n",
      "dtypes: int64(4), object(5)\n",
      "memory usage: 8.6+ KB\n",
      "None\n"
     ]
    }
   ],
   "source": [
    "print(df.info())\n"
   ]
  },
  {
   "cell_type": "code",
   "execution_count": 5,
   "id": "55ae2483",
   "metadata": {
    "execution": {
     "iopub.execute_input": "2025-08-12T10:50:00.706028Z",
     "iopub.status.busy": "2025-08-12T10:50:00.705670Z",
     "iopub.status.idle": "2025-08-12T10:50:00.734489Z",
     "shell.execute_reply": "2025-08-12T10:50:00.733446Z"
    },
    "papermill": {
     "duration": 0.033849,
     "end_time": "2025-08-12T10:50:00.735968",
     "exception": false,
     "start_time": "2025-08-12T10:50:00.702119",
     "status": "completed"
    },
    "tags": []
   },
   "outputs": [
    {
     "data": {
      "text/html": [
       "<div>\n",
       "<style scoped>\n",
       "    .dataframe tbody tr th:only-of-type {\n",
       "        vertical-align: middle;\n",
       "    }\n",
       "\n",
       "    .dataframe tbody tr th {\n",
       "        vertical-align: top;\n",
       "    }\n",
       "\n",
       "    .dataframe thead th {\n",
       "        text-align: right;\n",
       "    }\n",
       "</style>\n",
       "<table border=\"1\" class=\"dataframe\">\n",
       "  <thead>\n",
       "    <tr style=\"text-align: right;\">\n",
       "      <th></th>\n",
       "      <th>Timestamp</th>\n",
       "      <th>Your Academic Stage</th>\n",
       "      <th>Peer pressure</th>\n",
       "      <th>Academic pressure from your home</th>\n",
       "      <th>Study Environment</th>\n",
       "      <th>What coping strategy you use as a student?</th>\n",
       "      <th>Do you have any bad habits like smoking, drinking on a daily basis?</th>\n",
       "      <th>What would you rate the academic  competition in your student life</th>\n",
       "      <th>Rate your academic stress index</th>\n",
       "    </tr>\n",
       "  </thead>\n",
       "  <tbody>\n",
       "    <tr>\n",
       "      <th>0</th>\n",
       "      <td>24/07/2025 22:05:39</td>\n",
       "      <td>undergraduate</td>\n",
       "      <td>4</td>\n",
       "      <td>5</td>\n",
       "      <td>Noisy</td>\n",
       "      <td>Analyze the situation and handle it with intel...</td>\n",
       "      <td>No</td>\n",
       "      <td>3</td>\n",
       "      <td>5</td>\n",
       "    </tr>\n",
       "    <tr>\n",
       "      <th>1</th>\n",
       "      <td>24/07/2025 22:05:52</td>\n",
       "      <td>undergraduate</td>\n",
       "      <td>3</td>\n",
       "      <td>4</td>\n",
       "      <td>Peaceful</td>\n",
       "      <td>Analyze the situation and handle it with intel...</td>\n",
       "      <td>No</td>\n",
       "      <td>3</td>\n",
       "      <td>3</td>\n",
       "    </tr>\n",
       "    <tr>\n",
       "      <th>2</th>\n",
       "      <td>24/07/2025 22:06:39</td>\n",
       "      <td>undergraduate</td>\n",
       "      <td>1</td>\n",
       "      <td>1</td>\n",
       "      <td>Peaceful</td>\n",
       "      <td>Social support (friends, family)</td>\n",
       "      <td>No</td>\n",
       "      <td>2</td>\n",
       "      <td>4</td>\n",
       "    </tr>\n",
       "    <tr>\n",
       "      <th>3</th>\n",
       "      <td>24/07/2025 22:06:45</td>\n",
       "      <td>undergraduate</td>\n",
       "      <td>3</td>\n",
       "      <td>2</td>\n",
       "      <td>Peaceful</td>\n",
       "      <td>Analyze the situation and handle it with intel...</td>\n",
       "      <td>No</td>\n",
       "      <td>4</td>\n",
       "      <td>3</td>\n",
       "    </tr>\n",
       "    <tr>\n",
       "      <th>4</th>\n",
       "      <td>24/07/2025 22:08:06</td>\n",
       "      <td>undergraduate</td>\n",
       "      <td>3</td>\n",
       "      <td>3</td>\n",
       "      <td>Peaceful</td>\n",
       "      <td>Analyze the situation and handle it with intel...</td>\n",
       "      <td>No</td>\n",
       "      <td>4</td>\n",
       "      <td>5</td>\n",
       "    </tr>\n",
       "    <tr>\n",
       "      <th>5</th>\n",
       "      <td>24/07/2025 22:08:13</td>\n",
       "      <td>undergraduate</td>\n",
       "      <td>3</td>\n",
       "      <td>3</td>\n",
       "      <td>Peaceful</td>\n",
       "      <td>Analyze the situation and handle it with intel...</td>\n",
       "      <td>No</td>\n",
       "      <td>4</td>\n",
       "      <td>4</td>\n",
       "    </tr>\n",
       "    <tr>\n",
       "      <th>6</th>\n",
       "      <td>24/07/2025 22:09:21</td>\n",
       "      <td>undergraduate</td>\n",
       "      <td>5</td>\n",
       "      <td>5</td>\n",
       "      <td>disrupted</td>\n",
       "      <td>Emotional breakdown (crying a lot)</td>\n",
       "      <td>No</td>\n",
       "      <td>4</td>\n",
       "      <td>4</td>\n",
       "    </tr>\n",
       "    <tr>\n",
       "      <th>7</th>\n",
       "      <td>24/07/2025 22:10:06</td>\n",
       "      <td>undergraduate</td>\n",
       "      <td>3</td>\n",
       "      <td>2</td>\n",
       "      <td>Peaceful</td>\n",
       "      <td>Social support (friends, family)</td>\n",
       "      <td>No</td>\n",
       "      <td>3</td>\n",
       "      <td>3</td>\n",
       "    </tr>\n",
       "    <tr>\n",
       "      <th>8</th>\n",
       "      <td>24/07/2025 22:11:01</td>\n",
       "      <td>undergraduate</td>\n",
       "      <td>2</td>\n",
       "      <td>2</td>\n",
       "      <td>Peaceful</td>\n",
       "      <td>Analyze the situation and handle it with intel...</td>\n",
       "      <td>No</td>\n",
       "      <td>2</td>\n",
       "      <td>2</td>\n",
       "    </tr>\n",
       "    <tr>\n",
       "      <th>9</th>\n",
       "      <td>24/07/2025 22:11:19</td>\n",
       "      <td>undergraduate</td>\n",
       "      <td>2</td>\n",
       "      <td>2</td>\n",
       "      <td>Peaceful</td>\n",
       "      <td>Analyze the situation and handle it with intel...</td>\n",
       "      <td>No</td>\n",
       "      <td>4</td>\n",
       "      <td>2</td>\n",
       "    </tr>\n",
       "  </tbody>\n",
       "</table>\n",
       "</div>"
      ],
      "text/plain": [
       "             Timestamp Your Academic Stage  Peer pressure  \\\n",
       "0  24/07/2025 22:05:39       undergraduate              4   \n",
       "1  24/07/2025 22:05:52       undergraduate              3   \n",
       "2  24/07/2025 22:06:39       undergraduate              1   \n",
       "3  24/07/2025 22:06:45       undergraduate              3   \n",
       "4  24/07/2025 22:08:06       undergraduate              3   \n",
       "5  24/07/2025 22:08:13       undergraduate              3   \n",
       "6  24/07/2025 22:09:21       undergraduate              5   \n",
       "7  24/07/2025 22:10:06       undergraduate              3   \n",
       "8  24/07/2025 22:11:01       undergraduate              2   \n",
       "9  24/07/2025 22:11:19       undergraduate              2   \n",
       "\n",
       "   Academic pressure from your home Study Environment  \\\n",
       "0                                 5             Noisy   \n",
       "1                                 4          Peaceful   \n",
       "2                                 1          Peaceful   \n",
       "3                                 2          Peaceful   \n",
       "4                                 3          Peaceful   \n",
       "5                                 3          Peaceful   \n",
       "6                                 5         disrupted   \n",
       "7                                 2          Peaceful   \n",
       "8                                 2          Peaceful   \n",
       "9                                 2          Peaceful   \n",
       "\n",
       "          What coping strategy you use as a student?  \\\n",
       "0  Analyze the situation and handle it with intel...   \n",
       "1  Analyze the situation and handle it with intel...   \n",
       "2                   Social support (friends, family)   \n",
       "3  Analyze the situation and handle it with intel...   \n",
       "4  Analyze the situation and handle it with intel...   \n",
       "5  Analyze the situation and handle it with intel...   \n",
       "6                 Emotional breakdown (crying a lot)   \n",
       "7                   Social support (friends, family)   \n",
       "8  Analyze the situation and handle it with intel...   \n",
       "9  Analyze the situation and handle it with intel...   \n",
       "\n",
       "  Do you have any bad habits like smoking, drinking on a daily basis?  \\\n",
       "0                                                 No                    \n",
       "1                                                 No                    \n",
       "2                                                 No                    \n",
       "3                                                 No                    \n",
       "4                                                 No                    \n",
       "5                                                 No                    \n",
       "6                                                 No                    \n",
       "7                                                 No                    \n",
       "8                                                 No                    \n",
       "9                                                 No                    \n",
       "\n",
       "   What would you rate the academic  competition in your student life  \\\n",
       "0                                                  3                    \n",
       "1                                                  3                    \n",
       "2                                                  2                    \n",
       "3                                                  4                    \n",
       "4                                                  4                    \n",
       "5                                                  4                    \n",
       "6                                                  4                    \n",
       "7                                                  3                    \n",
       "8                                                  2                    \n",
       "9                                                  4                    \n",
       "\n",
       "   Rate your academic stress index   \n",
       "0                                 5  \n",
       "1                                 3  \n",
       "2                                 4  \n",
       "3                                 3  \n",
       "4                                 5  \n",
       "5                                 4  \n",
       "6                                 4  \n",
       "7                                 3  \n",
       "8                                 2  \n",
       "9                                 2  "
      ]
     },
     "execution_count": 5,
     "metadata": {},
     "output_type": "execute_result"
    }
   ],
   "source": [
    "df.head(10)"
   ]
  },
  {
   "cell_type": "code",
   "execution_count": 6,
   "id": "0df5ad9a",
   "metadata": {
    "execution": {
     "iopub.execute_input": "2025-08-12T10:50:00.744332Z",
     "iopub.status.busy": "2025-08-12T10:50:00.743093Z",
     "iopub.status.idle": "2025-08-12T10:50:00.786723Z",
     "shell.execute_reply": "2025-08-12T10:50:00.785552Z"
    },
    "papermill": {
     "duration": 0.050001,
     "end_time": "2025-08-12T10:50:00.789043",
     "exception": false,
     "start_time": "2025-08-12T10:50:00.739042",
     "status": "completed"
    },
    "tags": []
   },
   "outputs": [
    {
     "name": "stdout",
     "output_type": "stream",
     "text": [
      "Statistical Summary for Numeric Columns:\n"
     ]
    },
    {
     "data": {
      "text/html": [
       "<div>\n",
       "<style scoped>\n",
       "    .dataframe tbody tr th:only-of-type {\n",
       "        vertical-align: middle;\n",
       "    }\n",
       "\n",
       "    .dataframe tbody tr th {\n",
       "        vertical-align: top;\n",
       "    }\n",
       "\n",
       "    .dataframe thead th {\n",
       "        text-align: right;\n",
       "    }\n",
       "</style>\n",
       "<table border=\"1\" class=\"dataframe\">\n",
       "  <thead>\n",
       "    <tr style=\"text-align: right;\">\n",
       "      <th></th>\n",
       "      <th>Peer pressure</th>\n",
       "      <th>Academic pressure from your home</th>\n",
       "      <th>What would you rate the academic  competition in your student life</th>\n",
       "      <th>Rate your academic stress index</th>\n",
       "    </tr>\n",
       "  </thead>\n",
       "  <tbody>\n",
       "    <tr>\n",
       "      <th>count</th>\n",
       "      <td>121.000000</td>\n",
       "      <td>121.000000</td>\n",
       "      <td>121.000000</td>\n",
       "      <td>121.000000</td>\n",
       "    </tr>\n",
       "    <tr>\n",
       "      <th>mean</th>\n",
       "      <td>3.008264</td>\n",
       "      <td>3.190083</td>\n",
       "      <td>3.553719</td>\n",
       "      <td>3.669421</td>\n",
       "    </tr>\n",
       "    <tr>\n",
       "      <th>std</th>\n",
       "      <td>1.083942</td>\n",
       "      <td>1.260384</td>\n",
       "      <td>0.991215</td>\n",
       "      <td>1.059783</td>\n",
       "    </tr>\n",
       "    <tr>\n",
       "      <th>min</th>\n",
       "      <td>1.000000</td>\n",
       "      <td>1.000000</td>\n",
       "      <td>1.000000</td>\n",
       "      <td>1.000000</td>\n",
       "    </tr>\n",
       "    <tr>\n",
       "      <th>25%</th>\n",
       "      <td>2.000000</td>\n",
       "      <td>2.000000</td>\n",
       "      <td>3.000000</td>\n",
       "      <td>3.000000</td>\n",
       "    </tr>\n",
       "    <tr>\n",
       "      <th>50%</th>\n",
       "      <td>3.000000</td>\n",
       "      <td>3.000000</td>\n",
       "      <td>4.000000</td>\n",
       "      <td>4.000000</td>\n",
       "    </tr>\n",
       "    <tr>\n",
       "      <th>75%</th>\n",
       "      <td>4.000000</td>\n",
       "      <td>4.000000</td>\n",
       "      <td>4.000000</td>\n",
       "      <td>4.000000</td>\n",
       "    </tr>\n",
       "    <tr>\n",
       "      <th>max</th>\n",
       "      <td>5.000000</td>\n",
       "      <td>5.000000</td>\n",
       "      <td>5.000000</td>\n",
       "      <td>5.000000</td>\n",
       "    </tr>\n",
       "  </tbody>\n",
       "</table>\n",
       "</div>"
      ],
      "text/plain": [
       "       Peer pressure  Academic pressure from your home  \\\n",
       "count     121.000000                        121.000000   \n",
       "mean        3.008264                          3.190083   \n",
       "std         1.083942                          1.260384   \n",
       "min         1.000000                          1.000000   \n",
       "25%         2.000000                          2.000000   \n",
       "50%         3.000000                          3.000000   \n",
       "75%         4.000000                          4.000000   \n",
       "max         5.000000                          5.000000   \n",
       "\n",
       "       What would you rate the academic  competition in your student life  \\\n",
       "count                                         121.000000                    \n",
       "mean                                            3.553719                    \n",
       "std                                             0.991215                    \n",
       "min                                             1.000000                    \n",
       "25%                                             3.000000                    \n",
       "50%                                             4.000000                    \n",
       "75%                                             4.000000                    \n",
       "max                                             5.000000                    \n",
       "\n",
       "       Rate your academic stress index   \n",
       "count                        121.000000  \n",
       "mean                           3.669421  \n",
       "std                            1.059783  \n",
       "min                            1.000000  \n",
       "25%                            3.000000  \n",
       "50%                            4.000000  \n",
       "75%                            4.000000  \n",
       "max                            5.000000  "
      ]
     },
     "execution_count": 6,
     "metadata": {},
     "output_type": "execute_result"
    }
   ],
   "source": [
    "print(\"Statistical Summary for Numeric Columns:\")\n",
    "df.describe()"
   ]
  },
  {
   "cell_type": "code",
   "execution_count": 7,
   "id": "be6b6dd5",
   "metadata": {
    "execution": {
     "iopub.execute_input": "2025-08-12T10:50:00.797872Z",
     "iopub.status.busy": "2025-08-12T10:50:00.797551Z",
     "iopub.status.idle": "2025-08-12T10:50:00.806159Z",
     "shell.execute_reply": "2025-08-12T10:50:00.805236Z"
    },
    "papermill": {
     "duration": 0.015912,
     "end_time": "2025-08-12T10:50:00.808471",
     "exception": false,
     "start_time": "2025-08-12T10:50:00.792559",
     "status": "completed"
    },
    "tags": []
   },
   "outputs": [
    {
     "name": "stdout",
     "output_type": "stream",
     "text": [
      "Unique Values per Categorical Column:\n",
      "Timestamp: 121 unique values\n",
      "Your Academic Stage: 3 unique values\n",
      "Study Environment: 3 unique values\n",
      "What coping strategy you use as a student?: 3 unique values\n",
      "Do you have any bad habits like smoking, drinking on a daily basis?: 3 unique values\n"
     ]
    }
   ],
   "source": [
    "# For categorical columns\n",
    "categorical_cols = df.select_dtypes(include=['object']).columns\n",
    "if len(categorical_cols) > 0:\n",
    "    print(\"Unique Values per Categorical Column:\")\n",
    "    for col in categorical_cols:\n",
    "        print(f\"{col}: {df[col].nunique()} unique values\")"
   ]
  },
  {
   "cell_type": "markdown",
   "id": "fac2e585",
   "metadata": {
    "papermill": {
     "duration": 0.003021,
     "end_time": "2025-08-12T10:50:00.815589",
     "exception": false,
     "start_time": "2025-08-12T10:50:00.812568",
     "status": "completed"
    },
    "tags": []
   },
   "source": [
    "* Dataset size: 121 rows × 9 columns — small enough for EDA but enough variation for analysis.\n",
    "* Balanced mix: 4 numeric columns (peer-pressure, academic-pressure-home, academic-competition, academic-stress-index) and 5 categorical columns.\n",
    "* Peer Pressure: Mean ≈ 3.01, Std ≈ 1.08 — moderately spread, values range 1–5.\n",
    "* Academic Pressure from Home: Mean ≈ 3.19 — slightly higher than peer pressure.\n",
    "* Academic Competition Rating: Mean ≈ 3.55 — most students feel competition is above average.\n",
    "* Academic Stress Index: Mean ≈ 3.67 — stress levels lean toward the higher side.\n",
    "* Your Academic Stage: 3 unique values — likely undergraduate/postgraduate/other group.\n",
    "* Study Environment: only 3 types (e.g., Peaceful, Noisy, Disrupted).\n",
    "* Coping Strategy: 3 common strategies — possibly a focus area for mental health recommendations.\n",
    "* Bad Habits: Yes/No/Other — could test correlation with stress index.\n",
    "* Higher academic competition seems linked to higher stress index.\n",
    "* Poorer study environment (Noisy/Disrupted) may raise stress.\n",
    "* Coping strategy effectiveness could be analyzed by comparing average stress index.\n"
   ]
  }
 ],
 "metadata": {
  "kaggle": {
   "accelerator": "none",
   "dataSources": [
    {
     "datasetId": 8032342,
     "sourceId": 12709062,
     "sourceType": "datasetVersion"
    }
   ],
   "dockerImageVersionId": 31089,
   "isGpuEnabled": false,
   "isInternetEnabled": true,
   "language": "python",
   "sourceType": "notebook"
  },
  "kernelspec": {
   "display_name": "Python 3",
   "language": "python",
   "name": "python3"
  },
  "language_info": {
   "codemirror_mode": {
    "name": "ipython",
    "version": 3
   },
   "file_extension": ".py",
   "mimetype": "text/x-python",
   "name": "python",
   "nbconvert_exporter": "python",
   "pygments_lexer": "ipython3",
   "version": "3.11.13"
  },
  "papermill": {
   "default_parameters": {},
   "duration": 8.098942,
   "end_time": "2025-08-12T10:50:01.441076",
   "environment_variables": {},
   "exception": null,
   "input_path": "__notebook__.ipynb",
   "output_path": "__notebook__.ipynb",
   "parameters": {},
   "start_time": "2025-08-12T10:49:53.342134",
   "version": "2.6.0"
  }
 },
 "nbformat": 4,
 "nbformat_minor": 5
}
